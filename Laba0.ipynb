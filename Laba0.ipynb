{
 "cells": [
  {
   "cell_type": "code",
   "execution_count": 6,
   "id": "264a3b63-6a0e-4a20-a90b-563afed20b29",
   "metadata": {},
   "outputs": [
    {
     "name": "stdout",
     "output_type": "stream",
     "text": [
      "4\n"
     ]
    }
   ],
   "source": [
    "N = ord(\"S\") % 10 + 1\n",
    "print(N)"
   ]
  },
  {
   "cell_type": "markdown",
   "id": "3d828b60-50eb-4e19-9430-fff18d30b043",
   "metadata": {},
   "source": [
    "# **Джибуті**\n",
    "\n",
    "## Загальна інформація\n",
    "**Площа:** _23,200 км²_  \n",
    "**Населення:** _приблизно 1 мільйон людей_  \n",
    "**Державний устрій:** **унітарна президентська республіка**\n",
    "\n",
    "---\n",
    "\n",
    "## Видатні персоналії\n",
    "- **Ісмаїл Омар Гелле** — чинний президент Джибуті\n",
    "- **Алі Ареф Бурхан** — колишній прем'єр-міністр\n",
    "- **Хасан Гулед Аптидон** — перший президент Джибуті\n",
    "\n",
    "---\n",
    "\n",
    "## Пам'ятки культури та природи\n",
    "- **Озеро Ассаль** — найсолоніше озеро в Африці\n",
    "- **Місто Таджура** — історичний центр, що був важливим портом на узбережжі Червоного моря\n",
    "\n",
    "---\n",
    "\n",
    "## Таблиця даних про країну\n",
    "\n",
    "| **Показник**          | **Значення**            |\n",
    "|-----------------------|-------------------------|\n",
    "| Площа                 | 23,200 км²              |\n",
    "| Населення             | 1 мільйон               |\n",
    "| Офіційні мови         | Французька, Арабська    |\n",
    "| Столиця               | Джибуті                 |\n",
    "| Незалежність          | 1977 рік                |\n",
    "\n",
    "---\n",
    "\n",
    "## Список\n",
    "1. Населення Джибуті переважно складається з двох основних етнічних груп:\n",
    "   - Сомалі\n",
    "   - Афари\n",
    "2. Розташоване на узбережжі Червоного моря, Джибуті має важливе геостратегічне положення.\n",
    "\n",
    "---\n",
    "\n",
    "## Зображення\n",
    "\n",
    "### Краєвид Джибуті:\n",
    "\n",
    "![Краєвид Джибуті](https://media.istockphoto.com/id/1076681972/ru/%D1%84%D0%BE%D1%82%D0%BE/%D0%B2%D0%B8%D0%B4-%D0%BD%D0%B0-%D0%B4%D0%B6%D0%B8%D0%B1%D1%83%D1%82%D0%B8.jpg?s=2048x2048&w=is&k=20&c=Fn6H4m9Z61Ar2HeNVAw1e2ft2ttF6F-q8x_6BfVoiPE=)\n",
    "\n",
    "### Картинка за посиланням:\n",
    "[Краєвид Джибуті на Вікіпедії](https://en.wikipedia.org/wiki/Djibouti#/media/File:Assal_Lake.jpg)\n",
    "\n",
    "---\n",
    "\n",
    "## Гіперпосилання\n",
    "[Офіційний сайт уряду Джибуті](https://www.presidence.dj)\n",
    "\n",
    "---\n",
    "\n",
    "## Рамки навколо тексту\n",
    "\n",
    "<div style=\"border: 2px solid green; padding: 10px; background-color: lightyellow;\">\n",
    "  Джибуті має дуже спекотний та сухий клімат, але його стратегічне положення робить його важливим портом.\n",
    "</div>\n",
    "\n",
    "---\n",
    "\n",
    "## Символи різних кольорів\n",
    "\n",
    "<span style=\"color: blue;\">Джибуті</span> — невелика країна, але вона має важливе значення у геополітиці <span style=\"color: red;\">Східної Африки</span>.\n",
    "\n",
    "---\n"
   ]
  },
  {
   "cell_type": "code",
   "execution_count": 6,
   "id": "17bdd945-42e6-4887-a604-7fc46317811a",
   "metadata": {},
   "outputs": [
    {
     "data": {
      "text/html": [
       "<svg xmlns=\"http://www.w3.org/2000/svg\" width=\"300\" height=\"200\">\n",
       "  \n",
       "  <rect width=\"300\" height=\"100\" fill=\"#00a1de\" />\n",
       "\n",
       "  <rect y=\"100\" width=\"300\" height=\"100\" fill=\"#12ad2b\" />\n",
       "\n",
       "  <polygon points=\"0,0 150,100 0,200\" fill=\"white\" />\n",
       "\n",
       "  <polygon points=\"30,75 50,85 45,65 55,50 35,50 25,65 30,85\" fill=\"red\"/>\n",
       "</svg>\n"
      ],
      "text/plain": [
       "<IPython.core.display.HTML object>"
      ]
     },
     "metadata": {},
     "output_type": "display_data"
    }
   ],
   "source": [
    "%%html\n",
    "<svg xmlns=\"http://www.w3.org/2000/svg\" width=\"300\" height=\"200\">\n",
    "  \n",
    "  <rect width=\"300\" height=\"100\" fill=\"#00a1de\" />\n",
    "\n",
    "  <rect y=\"100\" width=\"300\" height=\"100\" fill=\"#12ad2b\" />\n",
    "\n",
    "  <polygon points=\"0,0 150,100 0,200\" fill=\"white\" />\n",
    "\n",
    "  <polygon points=\"30,75 50,85 45,65 55,50 35,50 25,65 30,85\" fill=\"red\"/>\n",
    "</svg>\n"
   ]
  },
  {
   "cell_type": "code",
   "execution_count": 8,
   "id": "13ef94f2-b761-440d-ac70-509c7b7ef03c",
   "metadata": {},
   "outputs": [
    {
     "name": "stdout",
     "output_type": "stream",
     "text": [
      "6\n",
      "14\n"
     ]
    }
   ],
   "source": [
    "def bubble_sort(numbers):\n",
    "  \"\"\"Сортує список чисел методом бульбашки і повертає кількість перестановок.\n",
    "\n",
    "  Args:\n",
    "    numbers: Список чисел.\n",
    "\n",
    "  Returns:\n",
    "    Кількість виконаних перестановок.\n",
    "  \"\"\"\n",
    "\n",
    "  n = len(numbers)\n",
    "  swapped = True\n",
    "  count = 0\n",
    "\n",
    "  while swapped:\n",
    "    swapped = False\n",
    "    for i in range(n - 1):\n",
    "      if numbers[i] > numbers[i + 1]:\n",
    "        numbers[i], numbers[i + 1] = numbers[i + 1], numbers[i]\n",
    "        swapped = True\n",
    "        count += 1\n",
    "\n",
    "  return count\n",
    "\n",
    "# Тестові приклади\n",
    "print(bubble_sort([5, 6, 23, 8, 12, 5]))  # Очікуваний результат: 6\n",
    "print(bubble_sort([7, 3, 1, 7, 4, 2, 8, 2]))  # Очікуваний результат: 14"
   ]
  },
  {
   "cell_type": "code",
   "execution_count": null,
   "id": "8bad3864-08aa-4f3a-bf7c-9c61b6cfac25",
   "metadata": {},
   "outputs": [],
   "source": []
  }
 ],
 "metadata": {
  "kernelspec": {
   "display_name": "Python 3 (ipykernel)",
   "language": "python",
   "name": "python3"
  },
  "language_info": {
   "codemirror_mode": {
    "name": "ipython",
    "version": 3
   },
   "file_extension": ".py",
   "mimetype": "text/x-python",
   "name": "python",
   "nbconvert_exporter": "python",
   "pygments_lexer": "ipython3",
   "version": "3.12.3"
  }
 },
 "nbformat": 4,
 "nbformat_minor": 5
}
